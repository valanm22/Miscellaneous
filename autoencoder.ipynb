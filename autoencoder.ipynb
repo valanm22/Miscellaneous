{
  "nbformat": 4,
  "nbformat_minor": 0,
  "metadata": {
    "colab": {
      "name": "autoencoder.ipynb",
      "provenance": [],
      "collapsed_sections": [],
      "authorship_tag": "ABX9TyPc0q2YfpslZzdoRIZmLpDr",
      "include_colab_link": true
    },
    "kernelspec": {
      "name": "python3",
      "display_name": "Python 3"
    },
    "language_info": {
      "name": "python"
    }
  },
  "cells": [
    {
      "cell_type": "markdown",
      "metadata": {
        "id": "view-in-github",
        "colab_type": "text"
      },
      "source": [
        "<a href=\"https://colab.research.google.com/github/valanm22/Miscellaneous/blob/main/autoencoder.ipynb\" target=\"_parent\"><img src=\"https://colab.research.google.com/assets/colab-badge.svg\" alt=\"Open In Colab\"/></a>"
      ]
    },
    {
      "cell_type": "code",
      "source": [
        "import matplotlib.pyplot as plt\n",
        "import numpy as np\n",
        "import torch\n",
        "import torch.nn as nn\n",
        "import torch.nn.functional as F\n",
        "import torchvision\n",
        "import torchvision.datasets as datasets\n",
        "import torchvision.transforms as transforms"
      ],
      "metadata": {
        "id": "cI6aHhqYBzR0"
      },
      "execution_count": 26,
      "outputs": []
    },
    {
      "cell_type": "code",
      "source": [
        "#Transforming images into tensors\n",
        "transform = transforms.ToTensor()\n",
        "\n",
        "train = datasets.MNIST(root='./data', train=True, download=True,\n",
        "                                transform=transform)\n",
        "\n",
        "test = datasets.MNIST(root='./data',  train=False, download=True,\n",
        "                               transform=transform)"
      ],
      "metadata": {
        "id": "lVmgipmGB99j"
      },
      "execution_count": 27,
      "outputs": []
    },
    {
      "cell_type": "code",
      "source": [
        "#Creating dataloaders\n",
        "train_loader = torch.utils.data.DataLoader(train, batch_size=64)\n",
        "test_loader = torch.utils.data.DataLoader(test, batch_size=64)"
      ],
      "metadata": {
        "id": "zTXTuB1Hodma"
      },
      "execution_count": 28,
      "outputs": []
    },
    {
      "cell_type": "code",
      "source": [
        "dataiter = iter(train_loader)\n",
        "images, labels = dataiter.next()\n",
        "images = images.numpy()\n",
        "\n",
        "img = np.squeeze(images[0])\n",
        "\n",
        "fig = plt.figure(figsize = (6,6)) \n",
        "fig.show\n",
        "ax = fig.add_subplot(111)\n",
        "ax.imshow(img, cmap='gray')"
      ],
      "metadata": {
        "colab": {
          "base_uri": "https://localhost:8080/",
          "height": 392
        },
        "id": "dDallCDKqwsn",
        "outputId": "47b7af73-addf-4aea-ed11-7336972316cc"
      },
      "execution_count": 29,
      "outputs": [
        {
          "output_type": "execute_result",
          "data": {
            "text/plain": [
              "<matplotlib.image.AxesImage at 0x7f216fb8b750>"
            ]
          },
          "metadata": {},
          "execution_count": 29
        },
        {
          "output_type": "display_data",
          "data": {
            "text/plain": [
              "<Figure size 432x432 with 1 Axes>"
            ],
            "image/png": "[encoded data removed]"
          },
          "metadata": {
            "needs_background": "light"
          }
        }
      ]
    },
    {
      "cell_type": "code",
      "source": [
        "class Net(nn.Module):\n",
        "\n",
        "  def __init__(self):\n",
        "    super(Net, self).__init__()\n",
        "\n",
        "    #Encoder\n",
        "\n",
        "    #Conv layer 1 with a filter size of 3x3\n",
        "    self.conv1 = nn.Conv2d(in_channels=1, out_channels=32, kernel_size=3, padding=1)\n",
        "    #Pooling layer 1\n",
        "    self.pool1 = nn.MaxPool2d(2, 2)\n",
        "\n",
        "    #Conv layer 2 with a filter size of 3x3\n",
        "    self.conv2 = nn.Conv2d(32, 32, 3, padding=1)\n",
        "    #Pooling layer 2\n",
        "    self.pool2 = nn.MaxPool2d(2, 2)\n",
        "    \n",
        "    #Decoder\n",
        "    self.t_conv1 = nn.ConvTranspose2d(in_channels=32, out_channels=32, kernel_size=2, stride=2)\n",
        "    self.t_conv2 = nn.ConvTranspose2d(32, 1, 2, stride=2)\n",
        "\n",
        "\n",
        "  def forward(self, x):\n",
        "      #Activation\n",
        "      x = F.relu(self.conv1(x))\n",
        "      x = self.pool1(x)\n",
        "      \n",
        "      x = F.relu(self.conv2(x))\n",
        "      x = self.pool2(x)\n",
        "\n",
        "      x = F.relu(self.t_conv1(x))\n",
        "      x = torch.sigmoid(self.t_conv2(x))\n",
        "            \n",
        "      return x\n"
      ],
      "metadata": {
        "id": "yyJnSU53Ul8r"
      },
      "execution_count": 30,
      "outputs": []
    },
    {
      "cell_type": "code",
      "source": [
        "model = Net()\n",
        "model"
      ],
      "metadata": {
        "id": "faZ-5JXhUrkO",
        "colab": {
          "base_uri": "https://localhost:8080/"
        },
        "outputId": "3a372281-b842-4ace-82c6-bba8ebbe2639"
      },
      "execution_count": 31,
      "outputs": [
        {
          "output_type": "execute_result",
          "data": {
            "text/plain": [
              "Net(\n",
              "  (conv1): Conv2d(1, 32, kernel_size=(3, 3), stride=(1, 1), padding=(1, 1))\n",
              "  (pool1): MaxPool2d(kernel_size=2, stride=2, padding=0, dilation=1, ceil_mode=False)\n",
              "  (conv2): Conv2d(32, 32, kernel_size=(3, 3), stride=(1, 1), padding=(1, 1))\n",
              "  (pool2): MaxPool2d(kernel_size=2, stride=2, padding=0, dilation=1, ceil_mode=False)\n",
              "  (t_conv1): ConvTranspose2d(32, 32, kernel_size=(2, 2), stride=(2, 2))\n",
              "  (t_conv2): ConvTranspose2d(32, 1, kernel_size=(2, 2), stride=(2, 2))\n",
              ")"
            ]
          },
          "metadata": {},
          "execution_count": 31
        }
      ]
    },
    {
      "cell_type": "code",
      "source": [
        "cost_function = torch.nn.MSELoss()\n",
        "optimizer = torch.optim.Adam(model.parameters(), lr=1e-2)"
      ],
      "metadata": {
        "id": "uvFD4NWG0UIB"
      },
      "execution_count": 32,
      "outputs": []
    },
    {
      "cell_type": "code",
      "source": [
        "for epoch in range(10):\n",
        "\n",
        "  train_loss = 0.0\n",
        "\n",
        "  for data in train_loader:\n",
        "      images, labels = data\n",
        "      \n",
        "      output = model(images)\n",
        "      cost = cost_function(output, images)\n",
        "\n",
        "      optimizer.zero_grad()\n",
        "      cost.backward()\n",
        "      optimizer.step()\n",
        "\n",
        "      train_loss += cost.item()*images.size(0)\n",
        "          \n",
        "  train_loss = train_loss/len(train_loader)\n",
        "  print('Epoch[{}/{}], loss: {:.6f}'\n",
        "        .format(epoch + 1, 10, train_loss))"
      ],
      "metadata": {
        "colab": {
          "base_uri": "https://localhost:8080/"
        },
        "id": "42FIj9-q21p6",
        "outputId": "fa63b66a-ec41-41db-db1a-d7746f94890e"
      },
      "execution_count": 33,
      "outputs": [
        {
          "output_type": "stream",
          "name": "stdout",
          "text": [
            "Epoch[1/10], loss: 0.609956\n",
            "Epoch[2/10], loss: 0.233041\n",
            "Epoch[3/10], loss: 0.199578\n",
            "Epoch[4/10], loss: 0.181629\n",
            "Epoch[5/10], loss: 0.171141\n",
            "Epoch[6/10], loss: 0.164318\n",
            "Epoch[7/10], loss: 0.158858\n",
            "Epoch[8/10], loss: 0.154910\n",
            "Epoch[9/10], loss: 0.152312\n",
            "Epoch[10/10], loss: 0.150135\n"
          ]
        }
      ]
    },
    {
      "cell_type": "code",
      "source": [
        "dataiter = iter(test_loader)\n",
        "images, labels = dataiter.next()\n",
        "\n",
        "output = model(images)\n",
        "images = images.numpy()\n",
        "\n",
        "output = output.view(64, 1, 28, 28)\n",
        "output = output.detach().numpy()\n",
        "\n",
        "fig, ax = plt.subplots()\n",
        "ax.imshow(np.squeeze(images[8]), cmap='gray')\n",
        "\n",
        "fig, ax = plt.subplots()\n",
        "ax.imshow(np.squeeze(output[8]), cmap='gray')"
      ],
      "metadata": {
        "colab": {
          "base_uri": "https://localhost:8080/",
          "height": 531
        },
        "id": "bmsCzkCDxqiV",
        "outputId": "c080c3ef-e6e5-4ac0-f0d7-fe6d41b7db93"
      },
      "execution_count": 82,
      "outputs": [
        {
          "output_type": "execute_result",
          "data": {
            "text/plain": [
              "<matplotlib.image.AxesImage at 0x7f21654fa350>"
            ]
          },
          "metadata": {},
          "execution_count": 82
        },
        {
          "output_type": "display_data",
          "data": {
            "text/plain": [
              "<Figure size 432x288 with 1 Axes>"
            ],
            "image/png": "[encoded data removed]"
          },
          "metadata": {
            "needs_background": "light"
          }
        },
        {
          "output_type": "display_data",
          "data": {
            "text/plain": [
              "<Figure size 432x288 with 1 Axes>"
            ],
            "image/png": "[encoded data removed]"
          },
          "metadata": {
            "needs_background": "light"
          }
        }
      ]
    }
  ]
}