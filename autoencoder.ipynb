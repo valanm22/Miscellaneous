{
  "nbformat": 4,
  "nbformat_minor": 0,
  "metadata": {
    "colab": {
      "name": "autoencoder.ipynb",
      "provenance": [],
      "collapsed_sections": [],
      "authorship_tag": "ABX9TyPdI7gV4W18Vk5OqYaugffL",
      "include_colab_link": true
    },
    "kernelspec": {
      "name": "python3",
      "display_name": "Python 3"
    },
    "language_info": {
      "name": "python"
    }
  },
  "cells": [
    {
      "cell_type": "markdown",
      "metadata": {
        "id": "view-in-github",
        "colab_type": "text"
      },
      "source": [
        "<a href=\"https://colab.research.google.com/github/valanm22/Natural-Language-Processing-with-Disaster-Tweets/blob/main/autoencoder.ipynb\" target=\"_parent\"><img src=\"https://colab.research.google.com/assets/colab-badge.svg\" alt=\"Open In Colab\"/></a>"
      ]
    },
    {
      "cell_type": "code",
      "source": [
        "import matplotlib.pyplot as plt\n",
        "import numpy as np\n",
        "import torch\n",
        "import torch.nn as nn\n",
        "import torch.nn.functional as F\n",
        "import torchvision\n",
        "import torchvision.datasets as datasets\n",
        "import torchvision.transforms as transforms"
      ],
      "metadata": {
        "id": "cI6aHhqYBzR0"
      },
      "execution_count": 69,
      "outputs": []
    },
    {
      "cell_type": "code",
      "source": [
        "#Transforming images into tensors\n",
        "transform = transforms.ToTensor()\n",
        "\n",
        "train = datasets.MNIST(root='./data', train=True, download=True,\n",
        "                                transform=transform)\n",
        "\n",
        "test = datasets.MNIST(root='./data',  train=False, download=True,\n",
        "                               transform=transform)"
      ],
      "metadata": {
        "id": "lVmgipmGB99j"
      },
      "execution_count": 70,
      "outputs": []
    },
    {
      "cell_type": "code",
      "source": [
        "#Creating dataloaders\n",
        "train_loader = torch.utils.data.DataLoader(train, batch_size=64)\n",
        "test_loader = torch.utils.data.DataLoader(test, batch_size=64)"
      ],
      "metadata": {
        "id": "zTXTuB1Hodma"
      },
      "execution_count": 71,
      "outputs": []
    },
    {
      "cell_type": "code",
      "source": [
        "dataiter = iter(train_loader)\n",
        "images, labels = dataiter.next()\n",
        "images = images.numpy()\n",
        "\n",
        "img = np.squeeze(images[0])\n",
        "\n",
        "fig = plt.figure(figsize = (6,6)) \n",
        "fig.show\n",
        "ax = fig.add_subplot(111)\n",
        "ax.imshow(img, cmap='gray')"
      ],
      "metadata": {
        "colab": {
          "base_uri": "https://localhost:8080/",
          "height": 392
        },
        "id": "dDallCDKqwsn",
        "outputId": "203e54c4-f4b1-4018-ead2-a9fa54e0f156"
      },
      "execution_count": 72,
      "outputs": [
        {
          "output_type": "execute_result",
          "data": {
            "text/plain": [
              "<matplotlib.image.AxesImage at 0x7f2731e2be50>"
            ]
          },
          "metadata": {},
          "execution_count": 72
        },
        {
          "output_type": "display_data",
          "data": {
            "text/plain": [
              "<Figure size 432x432 with 1 Axes>"
            ],
            "image/png": "[encoded data removed]"
          },
          "metadata": {
            "needs_background": "light"
          }
        }
      ]
    },
    {
      "cell_type": "code",
      "source": [
        "class Net(nn.Module):\n",
        "\n",
        "  def __init__(self):\n",
        "    super(Net, self).__init__()\n",
        "\n",
        "    #Encoder\n",
        "\n",
        "    #Conv layer 1 with a filter size of 3x3\n",
        "    self.conv1 = nn.Conv2d(in_channels=1, out_channels=32, kernel_size=3, padding=1)\n",
        "    #Pooling layer 1\n",
        "    self.pool1 = nn.MaxPool2d(2, 2)\n",
        "\n",
        "    #Conv layer 2 with a filter size of 3x3\n",
        "    self.conv2 = nn.Conv2d(32, 32, 3, padding=1)\n",
        "    #Pooling layer 2\n",
        "    self.pool2 = nn.MaxPool2d(2, 2)\n",
        "    \n",
        "    #Decoder\n",
        "    self.t_conv1 = nn.ConvTranspose2d(in_channels=32, out_channels=32, kernel_size=2, stride=2)\n",
        "    self.t_conv2 = nn.ConvTranspose2d(32, 1, 2, stride=2)\n",
        "\n",
        "\n",
        "  def forward(self, x):\n",
        "      #Activation\n",
        "      x = F.relu(self.conv1(x))\n",
        "      x = self.pool1(x)\n",
        "      \n",
        "      x = F.relu(self.conv2(x))\n",
        "      x = self.pool2(x)\n",
        "\n",
        "      x = F.relu(self.t_conv1(x))\n",
        "      x = torch.sigmoid(self.t_conv2(x))\n",
        "            \n",
        "      return x\n"
      ],
      "metadata": {
        "id": "yyJnSU53Ul8r"
      },
      "execution_count": 73,
      "outputs": []
    },
    {
      "cell_type": "code",
      "source": [
        "model = Net()\n",
        "model"
      ],
      "metadata": {
        "id": "faZ-5JXhUrkO",
        "colab": {
          "base_uri": "https://localhost:8080/"
        },
        "outputId": "2ffd7359-8c8c-4dcb-d0da-424a5fcae473"
      },
      "execution_count": 74,
      "outputs": [
        {
          "output_type": "execute_result",
          "data": {
            "text/plain": [
              "Net(\n",
              "  (conv1): Conv2d(1, 32, kernel_size=(3, 3), stride=(1, 1), padding=(1, 1))\n",
              "  (pool1): MaxPool2d(kernel_size=2, stride=2, padding=0, dilation=1, ceil_mode=False)\n",
              "  (conv2): Conv2d(32, 32, kernel_size=(3, 3), stride=(1, 1), padding=(1, 1))\n",
              "  (pool2): MaxPool2d(kernel_size=2, stride=2, padding=0, dilation=1, ceil_mode=False)\n",
              "  (t_conv1): ConvTranspose2d(32, 32, kernel_size=(2, 2), stride=(2, 2))\n",
              "  (t_conv2): ConvTranspose2d(32, 1, kernel_size=(2, 2), stride=(2, 2))\n",
              ")"
            ]
          },
          "metadata": {},
          "execution_count": 74
        }
      ]
    },
    {
      "cell_type": "code",
      "source": [
        "cost_function = torch.nn.MSELoss()\n",
        "optimizer = torch.optim.Adam(model.parameters(), lr=1e-2)"
      ],
      "metadata": {
        "id": "uvFD4NWG0UIB"
      },
      "execution_count": 75,
      "outputs": []
    },
    {
      "cell_type": "code",
      "source": [
        "for epoch in range(10):\n",
        "\n",
        "    for data in train_loader:\n",
        "        images, labels = data\n",
        "        \n",
        "        output = model(images)\n",
        "        cost = cost_function(output, images)\n",
        "\n",
        "        optimizer.zero_grad()\n",
        "        cost.backward()\n",
        "        optimizer.step()\n",
        "\n",
        "        train_loss += cost.item()*images.size(0)\n",
        "            \n",
        "    train_loss = train_loss/len(train_loader)\n",
        "    print('Epoch[{}/{}], loss: {:.6f}'\n",
        "          .format(epoch + 1, 10, train_loss))"
      ],
      "metadata": {
        "colab": {
          "base_uri": "https://localhost:8080/"
        },
        "id": "42FIj9-q21p6",
        "outputId": "774c11fb-51a3-4e6b-ebe3-826912a400a8"
      },
      "execution_count": 76,
      "outputs": [
        {
          "output_type": "stream",
          "name": "stdout",
          "text": [
            "Epoch[1/10], loss: 0.390237\n",
            "Epoch[2/10], loss: 0.175584\n",
            "Epoch[3/10], loss: 0.153717\n",
            "Epoch[4/10], loss: 0.141645\n",
            "Epoch[5/10], loss: 0.133507\n",
            "Epoch[6/10], loss: 0.127671\n",
            "Epoch[7/10], loss: 0.123723\n",
            "Epoch[8/10], loss: 0.120462\n",
            "Epoch[9/10], loss: 0.117987\n",
            "Epoch[10/10], loss: 0.115902\n"
          ]
        }
      ]
    },
    {
      "cell_type": "code",
      "source": [
        "# obtain one batch of test images\n",
        "dataiter = iter(test_loader)\n",
        "images, labels = dataiter.next()\n",
        "\n",
        "# get sample outputs\n",
        "output = model(images)\n",
        "# prep images for display\n",
        "images = images.numpy()\n",
        "\n",
        "# output is resized into a batch of iages\n",
        "output = output.view(64, 1, 28, 28)\n",
        "# use detach when it's an output that requires_grad\n",
        "output = output.detach().numpy()\n",
        "\n",
        "# plot the first ten input images and then reconstructed images\n",
        "fig, axes = plt.subplots(nrows=2, ncols=10, sharex=True, sharey=True, figsize=(25,4))\n",
        "\n",
        "# input images on top row, reconstructions on bottom\n",
        "for images, row in zip([images, output], axes):\n",
        "    for img, ax in zip(images, row):\n",
        "        ax.imshow(np.squeeze(img), cmap='gray')\n",
        "        ax.get_xaxis().set_visible(False)\n",
        "        ax.get_yaxis().set_visible(False)"
      ],
      "metadata": {
        "colab": {
          "base_uri": "https://localhost:8080/",
          "height": 252
        },
        "id": "V3CRGAtx24uz",
        "outputId": "4b1bb918-b955-4c08-e58b-bcd8d8bcb8ec"
      },
      "execution_count": 77,
      "outputs": [
        {
          "output_type": "display_data",
          "data": {
            "text/plain": [
              "<Figure size 1800x288 with 20 Axes>"
            ],
            "image/png": "[encoded data removed]"
          },
          "metadata": {
            "needs_background": "light"
          }
        }
      ]
    }
  ]
}