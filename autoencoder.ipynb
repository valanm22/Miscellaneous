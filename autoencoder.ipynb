{
  "nbformat": 4,
  "nbformat_minor": 0,
  "metadata": {
    "colab": {
      "name": "autoencoder.ipynb",
      "provenance": [],
      "collapsed_sections": [],
      "authorship_tag": "ABX9TyPsRZlQBEdkFvhOkTHM7lBF",
      "include_colab_link": true
    },
    "kernelspec": {
      "name": "python3",
      "display_name": "Python 3"
    },
    "language_info": {
      "name": "python"
    },
    "accelerator": "GPU",
    "gpuClass": "standard"
  },
  "cells": [
    {
      "cell_type": "markdown",
      "metadata": {
        "id": "view-in-github",
        "colab_type": "text"
      },
      "source": [
        "<a href=\"https://colab.research.google.com/github/valanm22/Miscellaneous/blob/main/autoencoder.ipynb\" target=\"_parent\"><img src=\"https://colab.research.google.com/assets/colab-badge.svg\" alt=\"Open In Colab\"/></a>"
      ]
    },
    {
      "cell_type": "code",
      "source": [
        "import matplotlib.pyplot as plt\n",
        "import numpy as np\n",
        "import torch\n",
        "import torch.nn as nn\n",
        "import torch.nn.functional as F\n",
        "import torchvision\n",
        "import torchvision.datasets as datasets\n",
        "import torchvision.transforms as transforms"
      ],
      "metadata": {
        "id": "cI6aHhqYBzR0"
      },
      "execution_count": null,
      "outputs": []
    },
    {
      "cell_type": "code",
      "source": [
        "#Transforming images into tensors\n",
        "transform = transforms.ToTensor()\n",
        "\n",
        "train = datasets.MNIST(root='./data', train=True, download=True,\n",
        "                                transform=transform)\n",
        "\n",
        "test = datasets.MNIST(root='./data',  train=False, download=True,\n",
        "                               transform=transform)"
      ],
      "metadata": {
        "id": "lVmgipmGB99j"
      },
      "execution_count": null,
      "outputs": []
    },
    {
      "cell_type": "code",
      "source": [
        "#Creating dataloaders\n",
        "train_loader = torch.utils.data.DataLoader(train, batch_size=64)\n",
        "test_loader = torch.utils.data.DataLoader(test, batch_size=64)"
      ],
      "metadata": {
        "id": "zTXTuB1Hodma"
      },
      "execution_count": null,
      "outputs": []
    },
    {
      "cell_type": "code",
      "source": [
        "dataiter = iter(train_loader)\n",
        "images, labels = dataiter.next()\n",
        "images = images.numpy()\n",
        "\n",
        "img = np.squeeze(images[0])\n",
        "\n",
        "fig = plt.figure(figsize = (6,6)) \n",
        "fig.show\n",
        "ax = fig.add_subplot(111)\n",
        "ax.imshow(img, cmap='gray')"
      ],
      "metadata": {
        "colab": {
          "base_uri": "https://localhost:8080/",
          "height": 392
        },
        "id": "dDallCDKqwsn",
        "outputId": "b5172940-40a6-467c-a7d6-04254114af5c"
      },
      "execution_count": null,
      "outputs": [
        {
          "output_type": "execute_result",
          "data": {
            "text/plain": [
              "<matplotlib.image.AxesImage at 0x7f2f3b7df910>"
            ]
          },
          "metadata": {},
          "execution_count": 13
        },
        {
          "output_type": "display_data",
          "data": {
            "text/plain": [
              "<Figure size 432x432 with 1 Axes>"
            ],
            "image/png": "[encoded data removed]"
          },
          "metadata": {
            "needs_background": "light"
          }
        }
      ]
    },
    {
      "cell_type": "code",
      "source": [
        "class Net(nn.Module):\n",
        "\n",
        "  def __init__(self):\n",
        "    super(Net, self).__init__()\n",
        "\n",
        "    #Encoder\n",
        "\n",
        "    #Conv layer 1 with a filter size of 3x3\n",
        "    self.conv1 = nn.Conv2d(in_channels=1, out_channels=32, kernel_size=3, padding=1)\n",
        "    #Pooling layer 1\n",
        "    self.pool1 = nn.MaxPool2d(2, 2)\n",
        "\n",
        "    #Conv layer 2 with a filter size of 3x3\n",
        "    self.conv2 = nn.Conv2d(32, 32, 3, padding=1)\n",
        "    #Pooling layer 2\n",
        "    self.pool2 = nn.MaxPool2d(2, 2)\n",
        "    \n",
        "    #Decoder\n",
        "    self.t_conv1 = nn.ConvTranspose2d(in_channels=32, out_channels=32, kernel_size=2, stride=2)\n",
        "    self.t_conv2 = nn.ConvTranspose2d(32, 1, 2, stride=2)\n",
        "\n",
        "\n",
        "  def forward(self, x):\n",
        "      #Activation\n",
        "      x = F.relu(self.conv1(x))\n",
        "      x = self.pool1(x)\n",
        "      \n",
        "      x = F.relu(self.conv2(x))\n",
        "      x = self.pool2(x)\n",
        "\n",
        "      x = F.relu(self.t_conv1(x))\n",
        "      x = torch.sigmoid(self.t_conv2(x))\n",
        "            \n",
        "      return x\n"
      ],
      "metadata": {
        "id": "yyJnSU53Ul8r"
      },
      "execution_count": null,
      "outputs": []
    },
    {
      "cell_type": "code",
      "source": [
        "model = Net()\n",
        "model"
      ],
      "metadata": {
        "id": "faZ-5JXhUrkO",
        "colab": {
          "base_uri": "https://localhost:8080/"
        },
        "outputId": "665a1176-3f95-471c-c370-4f8a42a040c8"
      },
      "execution_count": null,
      "outputs": [
        {
          "output_type": "execute_result",
          "data": {
            "text/plain": [
              "Net(\n",
              "  (conv1): Conv2d(1, 32, kernel_size=(3, 3), stride=(1, 1), padding=(1, 1))\n",
              "  (pool1): MaxPool2d(kernel_size=2, stride=2, padding=0, dilation=1, ceil_mode=False)\n",
              "  (conv2): Conv2d(32, 32, kernel_size=(3, 3), stride=(1, 1), padding=(1, 1))\n",
              "  (pool2): MaxPool2d(kernel_size=2, stride=2, padding=0, dilation=1, ceil_mode=False)\n",
              "  (t_conv1): ConvTranspose2d(32, 32, kernel_size=(2, 2), stride=(2, 2))\n",
              "  (t_conv2): ConvTranspose2d(32, 1, kernel_size=(2, 2), stride=(2, 2))\n",
              ")"
            ]
          },
          "metadata": {},
          "execution_count": 15
        }
      ]
    },
    {
      "cell_type": "code",
      "source": [
        "cost_function = torch.nn.MSELoss()\n",
        "optimizer = torch.optim.Adam(model.parameters(), lr=1e-2)"
      ],
      "metadata": {
        "id": "uvFD4NWG0UIB"
      },
      "execution_count": null,
      "outputs": []
    },
    {
      "cell_type": "code",
      "source": [
        "for epoch in range(30):\n",
        "\n",
        "  train_loss = 0.0\n",
        "\n",
        "  for data in train_loader:\n",
        "      images, labels = data\n",
        "      \n",
        "      output = model(images)\n",
        "      cost = cost_function(output, images)\n",
        "\n",
        "      optimizer.zero_grad()\n",
        "      cost.backward()\n",
        "      optimizer.step()\n",
        "\n",
        "      train_loss += cost.item()*images.size(0)\n",
        "          \n",
        "  train_loss = train_loss/len(train_loader)\n",
        "  print('Epoch[{}/{}], loss: {:.6f}'\n",
        "        .format(epoch + 1, 30, train_loss))"
      ],
      "metadata": {
        "colab": {
          "base_uri": "https://localhost:8080/"
        },
        "id": "42FIj9-q21p6",
        "outputId": "5887ddb2-b7d7-471c-ceab-247189115fc3"
      },
      "execution_count": 17,
      "outputs": [
        {
          "output_type": "stream",
          "name": "stdout",
          "text": [
            "Epoch[1/30], loss: 0.544137\n",
            "Epoch[2/30], loss: 0.196663\n",
            "Epoch[3/30], loss: 0.173150\n",
            "Epoch[4/30], loss: 0.161431\n",
            "Epoch[5/30], loss: 0.153989\n",
            "Epoch[6/30], loss: 0.148499\n",
            "Epoch[7/30], loss: 0.144147\n",
            "Epoch[8/30], loss: 0.140516\n",
            "Epoch[9/30], loss: 0.137985\n",
            "Epoch[10/30], loss: 0.135900\n",
            "Epoch[11/30], loss: 0.134017\n",
            "Epoch[12/30], loss: 0.132424\n",
            "Epoch[13/30], loss: 0.130915\n",
            "Epoch[14/30], loss: 0.129697\n",
            "Epoch[15/30], loss: 0.128695\n",
            "Epoch[16/30], loss: 0.127697\n",
            "Epoch[17/30], loss: 0.126772\n",
            "Epoch[18/30], loss: 0.126021\n",
            "Epoch[19/30], loss: 0.125232\n",
            "Epoch[20/30], loss: 0.124453\n",
            "Epoch[21/30], loss: 0.123806\n",
            "Epoch[22/30], loss: 0.123150\n",
            "Epoch[23/30], loss: 0.122507\n",
            "Epoch[24/30], loss: 0.121993\n",
            "Epoch[25/30], loss: 0.121413\n",
            "Epoch[26/30], loss: 0.120869\n",
            "Epoch[27/30], loss: 0.120339\n",
            "Epoch[28/30], loss: 0.119898\n",
            "Epoch[29/30], loss: 0.119415\n",
            "Epoch[30/30], loss: 0.118990\n"
          ]
        }
      ]
    },
    {
      "cell_type": "code",
      "source": [
        "dataiter = iter(test_loader)\n",
        "images, labels = dataiter.next()\n",
        "\n",
        "output = model(images)\n",
        "images = images.numpy()\n",
        "\n",
        "output = output.view(64, 1, 28, 28)\n",
        "output = output.detach().numpy()\n",
        "\n",
        "fig, ax = plt.subplots()\n",
        "ax.imshow(np.squeeze(images[8]), cmap='gray')\n",
        "\n",
        "fig, ax = plt.subplots()\n",
        "ax.imshow(np.squeeze(output[8]), cmap='gray')"
      ],
      "metadata": {
        "id": "bmsCzkCDxqiV",
        "colab": {
          "base_uri": "https://localhost:8080/",
          "height": 531
        },
        "outputId": "feba16d3-f19f-454f-aca9-ed2da53573bc"
      },
      "execution_count": 19,
      "outputs": [
        {
          "output_type": "execute_result",
          "data": {
            "text/plain": [
              "<matplotlib.image.AxesImage at 0x7f2f3b87cc10>"
            ]
          },
          "metadata": {},
          "execution_count": 19
        },
        {
          "output_type": "display_data",
          "data": {
            "text/plain": [
              "<Figure size 432x288 with 1 Axes>"
            ],
            "image/png": "[encoded data removed]"
          },
          "metadata": {
            "needs_background": "light"
          }
        },
        {
          "output_type": "display_data",
          "data": {
            "text/plain": [
              "<Figure size 432x288 with 1 Axes>"
            ],
            "image/png": "[encoded data removed]"
          },
          "metadata": {
            "needs_background": "light"
          }
        }
      ]
    }
  ]
}